{
 "cells": [
  {
   "cell_type": "markdown",
   "metadata": {},
   "source": [
    "##### Reference: Wengrow, Jay. \"A Common-Sense Guide to Data Structures and Algorithms\", 2020. Chapter 18: Graphs\n",
    "\n",
    "## Directed and undirected graphs"
   ]
  },
  {
   "cell_type": "code",
   "execution_count": 1,
   "metadata": {},
   "outputs": [],
   "source": [
    "# bare-bones implementation of an undirected graph using hash table\n",
    "undirected_graph = {\n",
    "  \"Alice\": [\"Bob\", \"Diana\", \"Fred\"],\n",
    "  \"Bob\": [\"Alice, Cynthia, Diana\"],\n",
    "  \"Cynthia\": [\"Bob\"],\n",
    "  \"Diana\": [\"Alice\", \"Bob\" , \"Fred\"],\n",
    "  \"Elise\": [\"Fred\"],\n",
    "  \"Fred\": [\"Alice\", \"Diana\", \"Elise\"]\n",
    "}"
   ]
  },
  {
   "cell_type": "code",
   "execution_count": 2,
   "metadata": {},
   "outputs": [],
   "source": [
    "# bare-bones implementation of an undirected graph using hash table\n",
    "directed_graph = {\n",
    "  \"Alice\": [\"Bob\", \"Cynthia\"],\n",
    "  \"Bob\": [\"Cynthia\"],\n",
    "  \"Cynthia\": [\"Bob\"],\n",
    "}"
   ]
  },
  {
   "cell_type": "code",
   "execution_count": 3,
   "metadata": {},
   "outputs": [],
   "source": [
    "# TODO: implement the graph with adjacency matrix\n",
    "\n",
    "class Graph:\n",
    "  pass\n",
    "\n",
    "\n",
    "class DirectedGraph(Graph):\n",
    "  vertices = set()\n",
    "\n",
    "  def add(self, vertex):\n",
    "    self.vertices.add(vertex)\n",
    "\n",
    "\n",
    "class UndirectedGraph(Graph):\n",
    "  vertices = set()\n",
    "\n",
    "  def add(self, vertex):\n",
    "    self.vertices.add(vertex)"
   ]
  },
  {
   "cell_type": "code",
   "execution_count": 4,
   "metadata": {},
   "outputs": [],
   "source": [
    "class VertexDG():\n",
    "  def __init__(self, person_name, dg):\n",
    "    self.person_name = person_name\n",
    "    self.friends = []\n",
    "    dg.add(self.person_name)\n",
    "\n",
    "  def __str__(self):\n",
    "    return self.person_name\n",
    "  \n",
    "  def __repr__(self):\n",
    "    return self.person_name\n",
    "  \n",
    "  def add_edge(self, vertex):\n",
    "    self.friends.append(vertex)\n",
    "    return self.friends"
   ]
  },
  {
   "cell_type": "code",
   "execution_count": 5,
   "metadata": {},
   "outputs": [
    {
     "name": "stdout",
     "output_type": "stream",
     "text": [
      "Alice friends:  [Bob, Cynthia]\n",
      "Bob friends:  [Cynthia]\n",
      "Cynthia friends:  [Bob]\n",
      "All vertices:  {'Bob', 'Cynthia', 'Alice'}\n"
     ]
    }
   ],
   "source": [
    "dg = DirectedGraph()\n",
    "\n",
    "alice = VertexDG(\"Alice\", dg)\n",
    "bob = VertexDG(\"Bob\", dg)\n",
    "cynthia = VertexDG(\"Cynthia\", dg)\n",
    "\n",
    "alice.add_edge(bob)\n",
    "alice.add_edge(cynthia)\n",
    "bob.add_edge(cynthia)\n",
    "cynthia.add_edge(bob)\n",
    "\n",
    "print(\"Alice friends: \", alice.friends)\n",
    "print(\"Bob friends: \", bob.friends)\n",
    "print(\"Cynthia friends: \", cynthia.friends)\n",
    "print(\"All vertices: \", dg.vertices)\n"
   ]
  },
  {
   "cell_type": "code",
   "execution_count": 6,
   "metadata": {},
   "outputs": [],
   "source": [
    "class VertexUG(UndirectedGraph):\n",
    "  def __init__(self, person_name, dg):\n",
    "    self.person_name = person_name\n",
    "    self.friends = []\n",
    "    dg.add(self.person_name)\n",
    "\n",
    "  def __str__(self):\n",
    "    return self.person_name\n",
    "  \n",
    "  def __repr__(self):\n",
    "    return self.person_name\n",
    "  \n",
    "  def add_edge(self, vertex):\n",
    "    if vertex not in self.friends:\n",
    "      self.friends.append(vertex)\n",
    "      vertex.add_edge(self)\n",
    "      return self.friends"
   ]
  },
  {
   "cell_type": "code",
   "execution_count": 7,
   "metadata": {},
   "outputs": [
    {
     "name": "stdout",
     "output_type": "stream",
     "text": [
      "Daniel friends:  [Elise, Fred]\n",
      "Elise friends:  [Daniel, Fred]\n",
      "Fred friends:  [Daniel, Elise]\n",
      "All vertices:  {'Fred', 'Elise', 'Daniel'}\n"
     ]
    }
   ],
   "source": [
    "ug = UndirectedGraph()\n",
    "\n",
    "daniel = VertexUG(\"Daniel\", ug)\n",
    "elise = VertexUG(\"Elise\", ug)\n",
    "fred = VertexUG(\"Fred\", ug)\n",
    "\n",
    "daniel.add_edge(elise)\n",
    "daniel.add_edge(fred)\n",
    "elise.add_edge(fred)\n",
    "fred.add_edge(daniel)\n",
    "\n",
    "print(\"Daniel friends: \", daniel.friends)\n",
    "print(\"Elise friends: \", elise.friends)\n",
    "print(\"Fred friends: \", fred.friends)\n",
    "print(\"All vertices: \", ug.vertices)"
   ]
  },
  {
   "cell_type": "markdown",
   "metadata": {},
   "source": [
    "## Search - Depth first (DFS) and Breadth first (BFS)"
   ]
  },
  {
   "cell_type": "code",
   "execution_count": 8,
   "metadata": {},
   "outputs": [],
   "source": [
    "class Graph:\n",
    "  def dfs_traverse(self, vertex, visited=None, lookup_name=None):\n",
    "    if lookup_name == vertex.person_name:\n",
    "      return vertex\n",
    "\n",
    "    if visited is None:\n",
    "      visited = set()\n",
    "\n",
    "    # mark vertex as visited\n",
    "    visited.add(vertex)\n",
    "\n",
    "    # stdout the vertex\n",
    "    if lookup_name is None:\n",
    "      print(\"Current vertex: \", vertex)\n",
    "\n",
    "    # visit all neighbors\n",
    "    for neighbor in vertex.friends:\n",
    "      if neighbor not in visited:\n",
    "        lookup = self.dfs_traverse(neighbor, visited, lookup_name)\n",
    "        if lookup is not None:\n",
    "          return \"Lookup person: \" + lookup.person_name\n",
    "        \n",
    "  def bfs_traverse(self, vertex, lookup_name=None):\n",
    "    visited = set()\n",
    "    queue = []\n",
    "    queue.append(vertex)\n",
    "\n",
    "    while queue:\n",
    "      vertex = queue.pop(0)\n",
    "      if vertex not in visited:\n",
    "        visited.add(vertex)\n",
    "        if lookup_name == vertex.person_name:\n",
    "          return \"Lookup person: \" + vertex.person_name\n",
    "        if lookup_name is None:\n",
    "          print(\"Current vertex: \", vertex)\n",
    "        for neighbor in vertex.friends:\n",
    "          queue.append(neighbor)\n",
    "    return None\n",
    "\n",
    "\n",
    "class DirectedGraph(Graph):\n",
    "  vertices = set()\n",
    "\n",
    "  def __init__(self):\n",
    "    super().__init__()\n",
    "\n",
    "  def add(self, vertex):\n",
    "    self.vertices.add(vertex)\n",
    "\n",
    "\n",
    "class UndirectedGraph(Graph):\n",
    "  vertices = set()\n",
    "\n",
    "  def __init__(self):\n",
    "    super().__init__()\n",
    "\n",
    "  def add(self, vertex):\n",
    "    self.vertices.add(vertex)"
   ]
  },
  {
   "cell_type": "code",
   "execution_count": 9,
   "metadata": {},
   "outputs": [
    {
     "data": {
      "text/plain": [
       "[Bob]"
      ]
     },
     "execution_count": 9,
     "metadata": {},
     "output_type": "execute_result"
    }
   ],
   "source": [
    "dg = DirectedGraph()\n",
    "\n",
    "alice = VertexDG(\"Alice\", dg)\n",
    "bob = VertexDG(\"Bob\", dg)\n",
    "cynthia = VertexDG(\"Cynthia\", dg)\n",
    "\n",
    "alice.add_edge(bob)\n",
    "alice.add_edge(cynthia)\n",
    "bob.add_edge(cynthia)\n",
    "cynthia.add_edge(bob)"
   ]
  },
  {
   "cell_type": "code",
   "execution_count": 10,
   "metadata": {},
   "outputs": [
    {
     "name": "stdout",
     "output_type": "stream",
     "text": [
      "Current vertex:  Alice\n",
      "Current vertex:  Bob\n",
      "Current vertex:  Cynthia\n"
     ]
    }
   ],
   "source": [
    "dg.dfs_traverse(alice)"
   ]
  },
  {
   "cell_type": "code",
   "execution_count": 11,
   "metadata": {},
   "outputs": [
    {
     "name": "stdout",
     "output_type": "stream",
     "text": [
      "Current vertex:  Alice\n",
      "Current vertex:  Bob\n",
      "Current vertex:  Cynthia\n"
     ]
    }
   ],
   "source": [
    "dg.bfs_traverse(alice)"
   ]
  },
  {
   "cell_type": "code",
   "execution_count": 12,
   "metadata": {},
   "outputs": [
    {
     "data": {
      "text/plain": [
       "'Lookup person: Bob'"
      ]
     },
     "execution_count": 12,
     "metadata": {},
     "output_type": "execute_result"
    }
   ],
   "source": [
    "dg.dfs_traverse(alice, lookup_name=\"Bob\")"
   ]
  },
  {
   "cell_type": "code",
   "execution_count": 13,
   "metadata": {},
   "outputs": [
    {
     "data": {
      "text/plain": [
       "'Lookup person: Bob'"
      ]
     },
     "execution_count": 13,
     "metadata": {},
     "output_type": "execute_result"
    }
   ],
   "source": [
    "dg.bfs_traverse(alice, lookup_name=\"Bob\")"
   ]
  },
  {
   "cell_type": "markdown",
   "metadata": {},
   "source": [
    "## Weighted graphs"
   ]
  },
  {
   "cell_type": "code",
   "execution_count": 14,
   "metadata": {},
   "outputs": [],
   "source": [
    "class WeightedGraph():\n",
    "  vertices = set()\n",
    "\n",
    "  def __init__(self):\n",
    "    super().__init__()\n",
    "\n",
    "  def add(self, vertex):\n",
    "    self.vertices.add(vertex)\n",
    "\n",
    "\n",
    "class VertexWG():\n",
    "  def __init__(self, person_name, wg):\n",
    "    self.person_name = person_name\n",
    "    self.friends = {}\n",
    "    wg.add(self.person_name)\n",
    "\n",
    "  def __str__(self):\n",
    "    return self.person_name\n",
    "  \n",
    "  def __repr__(self):\n",
    "    return self.person_name\n",
    "  \n",
    "  def add_edge(self, vertex, weight):\n",
    "    self.friends[vertex] = weight\n",
    "    return self.friends"
   ]
  },
  {
   "cell_type": "code",
   "execution_count": 15,
   "metadata": {},
   "outputs": [
    {
     "data": {
      "text/plain": [
       "{Dallas: 200}"
      ]
     },
     "execution_count": 15,
     "metadata": {},
     "output_type": "execute_result"
    }
   ],
   "source": [
    "wg = WeightedGraph()\n",
    "\n",
    "dallas = VertexWG(\"Dallas\", wg)\n",
    "toronto = VertexWG(\"Toronto\", wg)\n",
    "\n",
    "dallas.add_edge(toronto, 100)\n",
    "toronto.add_edge(dallas, 200)"
   ]
  },
  {
   "cell_type": "markdown",
   "metadata": {},
   "source": [
    "## Dijkstra's algorithm"
   ]
  },
  {
   "cell_type": "code",
   "execution_count": 59,
   "metadata": {},
   "outputs": [],
   "source": [
    "class DijkstraWeightedGraph():\n",
    "  vertices = set()\n",
    "\n",
    "  def __init__(self):\n",
    "    super().__init__()\n",
    "\n",
    "  def add(self, vertex):\n",
    "    self.vertices.add(vertex)\n",
    "\n",
    "  def dijkstra_shortest_path(self, start_vertex, end_vertex):\n",
    "    visited = set()\n",
    "    distances = {vertex: float('infinity') for vertex in self.vertices}\n",
    "    distances[start_vertex] = 0\n",
    "    previous_vertices = {vertex: None for vertex in self.vertices}\n",
    "\n",
    "    while self.vertices - visited:\n",
    "      current_vertex = min(\n",
    "        self.vertices - visited, key=lambda vertex: distances[vertex]\n",
    "      )\n",
    "      visited.add(current_vertex)\n",
    "\n",
    "      for neighbor, weight in current_vertex.routes.items():\n",
    "        if weight + distances[current_vertex] < distances[neighbor]:\n",
    "          distances[neighbor] = weight + distances[current_vertex]\n",
    "          previous_vertices[neighbor] = current_vertex\n",
    "\n",
    "    path, current_vertex = [], end_vertex\n",
    "    while previous_vertices[current_vertex] is not None:\n",
    "      path.insert(0, current_vertex)\n",
    "      current_vertex = previous_vertices[current_vertex]\n",
    "    path.insert(0, current_vertex)\n",
    "    return path, distances[end_vertex]\n",
    "\n",
    "class VertexCityDG():\n",
    "  def __init__(self, city_name, dg):\n",
    "    dg.add(self)\n",
    "    self.routes = {}\n",
    "    self.name = city_name\n",
    "\n",
    "  def __str__(self):\n",
    "    return self.name\n",
    "  \n",
    "  def __repr__(self):\n",
    "    return self.name\n",
    "  \n",
    "  def add_route(self, city, price):\n",
    "    self.routes[city] = price"
   ]
  },
  {
   "cell_type": "code",
   "execution_count": 60,
   "metadata": {},
   "outputs": [],
   "source": [
    "cities_dg = DijkstraWeightedGraph()\n",
    "\n",
    "atlanta = VertexCityDG(\"Atlanta\", cities_dg)\n",
    "boston = VertexCityDG(\"Boston\", cities_dg)\n",
    "chicago = VertexCityDG(\"Chicago\", cities_dg)\n",
    "denver = VertexCityDG(\"Denver\", cities_dg)\n",
    "el_paso = VertexCityDG(\"El Paso\", cities_dg)\n",
    "\n",
    "atlanta.add_route(boston, 100)\n",
    "atlanta.add_route(denver, 160)\n",
    "boston.add_route(chicago, 120)\n",
    "boston.add_route(denver, 180)\n",
    "chicago.add_route(el_paso, 80)\n",
    "denver.add_route(chicago, 40)\n",
    "denver.add_route(el_paso, 140)\n",
    "el_paso.add_route(boston, 100)"
   ]
  },
  {
   "cell_type": "code",
   "execution_count": 61,
   "metadata": {},
   "outputs": [
    {
     "name": "stdout",
     "output_type": "stream",
     "text": [
      "Atlanta routes:  {Boston: 100, Denver: 160}\n",
      "Boston routes:  {Chicago: 120, Denver: 180}\n",
      "Chicago routes:  {El Paso: 80}\n",
      "Denver routes:  {Chicago: 40, El Paso: 140}\n",
      "El Paso routes:  {Boston: 100}\n",
      "Dijkstra graph vertices:  {El Paso, Boston, Atlanta, Chicago, Denver}\n"
     ]
    }
   ],
   "source": [
    "print(\"Atlanta routes: \", atlanta.routes)\n",
    "print(\"Boston routes: \", boston.routes)\n",
    "print(\"Chicago routes: \", chicago.routes)\n",
    "print(\"Denver routes: \", denver.routes)\n",
    "print(\"El Paso routes: \", el_paso.routes)\n",
    "print(\"Dijkstra graph vertices: \", cities_dg.vertices)"
   ]
  },
  {
   "cell_type": "code",
   "execution_count": 63,
   "metadata": {},
   "outputs": [
    {
     "name": "stdout",
     "output_type": "stream",
     "text": [
      "Shortest path:  [Atlanta, Denver, Chicago, El Paso]\n",
      "Distance:  280\n"
     ]
    }
   ],
   "source": [
    "path, distance = cities_dg.dijkstra_shortest_path(atlanta, el_paso)\n",
    "print(\"Shortest path: \", path)\n",
    "print(\"Distance: \", distance)"
   ]
  }
 ],
 "metadata": {
  "kernelspec": {
   "display_name": "Python 3",
   "language": "python",
   "name": "python3"
  },
  "language_info": {
   "codemirror_mode": {
    "name": "ipython",
    "version": 3
   },
   "file_extension": ".py",
   "mimetype": "text/x-python",
   "name": "python",
   "nbconvert_exporter": "python",
   "pygments_lexer": "ipython3",
   "version": "3.12.2"
  }
 },
 "nbformat": 4,
 "nbformat_minor": 2
}
